{
 "cells": [
  {
   "cell_type": "markdown",
   "metadata": {},
   "source": [
    "Running a simulation with SHyFT\n",
    "=========\n",
    "\n",
    "### This notebook is guiding through the simulation process of a catchment. The following steps are described:\n",
    "1. **Loading required python modules and setting path to SHyFT installation**\n",
    "2. **Configuration of a SHyFT calibration**\n",
    "3. **Running a SHyFT calibration**\n",
    "4. **Inspecting the calibration results**"
   ]
  },
  {
   "cell_type": "markdown",
   "metadata": {},
   "source": [
    "### 1. Loading required python modules and setting path to SHyFT installation"
   ]
  },
  {
   "cell_type": "code",
   "execution_count": 1,
   "metadata": {
    "collapsed": true
   },
   "outputs": [],
   "source": [
    "# importing thrid-party python modules\n",
    "import sys\n",
    "import os"
   ]
  },
  {
   "cell_type": "code",
   "execution_count": 2,
   "metadata": {
    "collapsed": false
   },
   "outputs": [],
   "source": [
    "# setting the path to the shyft build\n",
    "shyft_path = os.path.abspath(\"../../../shyft\")\n",
    "sys.path.insert(0,shyft_path)"
   ]
  },
  {
   "cell_type": "code",
   "execution_count": 7,
   "metadata": {
    "collapsed": true
   },
   "outputs": [],
   "source": [
    "# importing the shyft modules needed for running a calibration\n",
    "from shyft.repository.default_state_repository import DefaultStateRepository\n",
    "from shyft.orchestration.configuration.yaml_configs import YAMLCalibConfig\n",
    "from shyft.orchestration.simulators.config_simulator import ConfigCalibrator"
   ]
  },
  {
   "cell_type": "markdown",
   "metadata": {},
   "source": [
    "###2. Configuration of a SHyFT calibration"
   ]
  },
  {
   "cell_type": "code",
   "execution_count": 8,
   "metadata": {
    "collapsed": false
   },
   "outputs": [],
   "source": [
    "# set up configuration using *.yaml configuration files\n",
    "config_file_path = os.path.abspath(\"./sagelva-config/sagelva_hbv/sagelva_calibration.yaml\") # here is the *.yaml file\n",
    "cfg = YAMLCalibConfig(config_file_path, \"sagelva\")"
   ]
  },
  {
   "cell_type": "code",
   "execution_count": 9,
   "metadata": {
    "collapsed": false
   },
   "outputs": [],
   "source": [
    "# initialize an instance of the orchestration's ConfigCalcalibrator class, which has all the functionality needed\n",
    "# to run a calibration using the above initiated configuration\n",
    "calib = ConfigCalibrator(cfg)\n",
    "n_cells = calib.region_model.size()\n",
    "state_repos = DefaultStateRepository(calib.region_model.__class__, n_cells)\n",
    "#calib.init()"
   ]
  },
  {
   "cell_type": "markdown",
   "metadata": {},
   "source": [
    "###3. Running a SHyFT calibration"
   ]
  },
  {
   "cell_type": "code",
   "execution_count": 10,
   "metadata": {
    "collapsed": false
   },
   "outputs": [
    {
     "name": "stdout",
     "output_type": "stream",
     "text": [
      "Creating TargetSpecificationVector...\n",
      "Fetching sources and running interpolation...\n",
      "Calibrating...\n"
     ]
    },
    {
     "ename": "KeyError",
     "evalue": "'soil'",
     "output_type": "error",
     "traceback": [
      "\u001b[0;31m---------------------------------------------------------------------------\u001b[0m",
      "\u001b[0;31mKeyError\u001b[0m                                  Traceback (most recent call last)",
      "\u001b[0;32m<ipython-input-10-9b98c5679934>\u001b[0m in \u001b[0;36m<module>\u001b[0;34m()\u001b[0m\n\u001b[1;32m      3\u001b[0m results = calib.calibrate(cfg.sim_config.time_axis, state_repos.get_state(0), \n\u001b[1;32m      4\u001b[0m                           \u001b[0mcfg\u001b[0m\u001b[1;33m.\u001b[0m\u001b[0moptimization_method\u001b[0m\u001b[1;33m[\u001b[0m\u001b[1;34m'name'\u001b[0m\u001b[1;33m]\u001b[0m\u001b[1;33m,\u001b[0m\u001b[1;33m\u001b[0m\u001b[0m\n\u001b[0;32m----> 5\u001b[0;31m                           cfg.optimization_method['params'])\n\u001b[0m",
      "\u001b[0;32mC:\\Sagelva\\shyft\\shyft\\orchestration\\simulators\\config_simulator.py\u001b[0m in \u001b[0;36mcalibrate\u001b[0;34m(self, time_axis, state, optim_method, optim_method_params, p_min, p_max, p_init, tv, run_interp)\u001b[0m\n\u001b[1;32m    142\u001b[0m                  optim_method_params = self.optim_method_params, verbose_level=self.verbose_level, run_interp=run_interp)\n\u001b[1;32m    143\u001b[0m         \u001b[1;32mif\u001b[0m \u001b[0mself\u001b[0m\u001b[1;33m.\u001b[0m\u001b[0mcalibrated_model_file\u001b[0m \u001b[1;32mis\u001b[0m \u001b[1;32mnot\u001b[0m \u001b[1;32mNone\u001b[0m\u001b[1;33m:\u001b[0m\u001b[1;33m\u001b[0m\u001b[0m\n\u001b[0;32m--> 144\u001b[0;31m             \u001b[0mself\u001b[0m\u001b[1;33m.\u001b[0m\u001b[0msave_calibrated_model\u001b[0m\u001b[1;33m(\u001b[0m\u001b[0mp_res\u001b[0m\u001b[1;33m)\u001b[0m\u001b[1;33m\u001b[0m\u001b[0m\n\u001b[0m\u001b[1;32m    145\u001b[0m         \u001b[0mself\u001b[0m\u001b[1;33m.\u001b[0m\u001b[0moptimum_parameters\u001b[0m \u001b[1;33m=\u001b[0m \u001b[0mself\u001b[0m\u001b[1;33m.\u001b[0m\u001b[0mregion_model\u001b[0m\u001b[1;33m.\u001b[0m\u001b[0mparameter_t\u001b[0m\u001b[1;33m(\u001b[0m\u001b[0mp_res\u001b[0m\u001b[1;33m)\u001b[0m \u001b[1;31m# To keep a copy\u001b[0m\u001b[1;33m\u001b[0m\u001b[0m\n\u001b[1;32m    146\u001b[0m         \u001b[1;32mreturn\u001b[0m \u001b[0mp_res\u001b[0m\u001b[1;33m\u001b[0m\u001b[0m\n",
      "\u001b[0;32mC:\\Sagelva\\shyft\\shyft\\orchestration\\simulators\\config_simulator.py\u001b[0m in \u001b[0;36msave_calibrated_model\u001b[0;34m(self, optim_param, outfile)\u001b[0m\n\u001b[1;32m    157\u001b[0m         [model_params[name_map[r]].update({p: getattr(getattr(optim_param, r), p)})\n\u001b[1;32m    158\u001b[0m          if name_map[r] in model_params else model_params.update(\n\u001b[0;32m--> 159\u001b[0;31m             {name_map[r]: {p: getattr(getattr(optim_param, r), p)}}) for r, p in [nm.split('.') for nm in self.calib_param_names]]\n\u001b[0m\u001b[1;32m    160\u001b[0m         \u001b[0mmodel_dict\u001b[0m\u001b[1;33m.\u001b[0m\u001b[0mupdate\u001b[0m\u001b[1;33m(\u001b[0m\u001b[1;33m{\u001b[0m\u001b[1;34m'model_parameters'\u001b[0m\u001b[1;33m:\u001b[0m \u001b[0mmodel_params\u001b[0m\u001b[1;33m}\u001b[0m\u001b[1;33m)\u001b[0m\u001b[1;33m\u001b[0m\u001b[0m\n\u001b[1;32m    161\u001b[0m         \u001b[1;31m# Finally, save the update parameters on disk\u001b[0m\u001b[1;33m\u001b[0m\u001b[1;33m\u001b[0m\u001b[0m\n",
      "\u001b[0;32mC:\\Sagelva\\shyft\\shyft\\orchestration\\simulators\\config_simulator.py\u001b[0m in \u001b[0;36m<listcomp>\u001b[0;34m(.0)\u001b[0m\n\u001b[1;32m    157\u001b[0m         [model_params[name_map[r]].update({p: getattr(getattr(optim_param, r), p)})\n\u001b[1;32m    158\u001b[0m          if name_map[r] in model_params else model_params.update(\n\u001b[0;32m--> 159\u001b[0;31m             {name_map[r]: {p: getattr(getattr(optim_param, r), p)}}) for r, p in [nm.split('.') for nm in self.calib_param_names]]\n\u001b[0m\u001b[1;32m    160\u001b[0m         \u001b[0mmodel_dict\u001b[0m\u001b[1;33m.\u001b[0m\u001b[0mupdate\u001b[0m\u001b[1;33m(\u001b[0m\u001b[1;33m{\u001b[0m\u001b[1;34m'model_parameters'\u001b[0m\u001b[1;33m:\u001b[0m \u001b[0mmodel_params\u001b[0m\u001b[1;33m}\u001b[0m\u001b[1;33m)\u001b[0m\u001b[1;33m\u001b[0m\u001b[0m\n\u001b[1;32m    161\u001b[0m         \u001b[1;31m# Finally, save the update parameters on disk\u001b[0m\u001b[1;33m\u001b[0m\u001b[1;33m\u001b[0m\u001b[0m\n",
      "\u001b[0;31mKeyError\u001b[0m: 'soil'"
     ]
    }
   ],
   "source": [
    "# once the calibrator is set up, all you need to do is running the calibration...\n",
    "# the calibrated parameters are stored in a model.yaml. \n",
    "results = calib.calibrate(cfg.sim_config.time_axis, state_repos.get_state(0), \n",
    "                          cfg.optimization_method['name'],\n",
    "                          cfg.optimization_method['params'])"
   ]
  },
  {
   "cell_type": "markdown",
   "metadata": {
    "collapsed": true
   },
   "source": [
    "###4. Inspecting the calibration results\n",
    "First the Nash-Suttcliffe-efficiency of the calibrated simulation is computed to see the quality of the calibration.\n",
    "Then the calibrated model parameters are accessed and printed out."
   ]
  },
  {
   "cell_type": "code",
   "execution_count": null,
   "metadata": {
    "collapsed": false
   },
   "outputs": [],
   "source": [
    "# Get NSE of calibrated run:\n",
    "result_params = []\n",
    "for i in range(results.size()):\n",
    "    result_params.append(results.get(i))\n",
    "print(\"Final NSE =\", 1-calib.optimizer.calculate_goal_function(result_params))"
   ]
  },
  {
   "cell_type": "code",
   "execution_count": null,
   "metadata": {
    "collapsed": false
   },
   "outputs": [],
   "source": [
    "# Check out parameters. Print a warning if parameter interval is reached.\n",
    "diff = 1.0E-3\n",
    "print(\"{0:30s} {1:10s} {2:10s} {3:10s}\".format(\"PARAM-NAME\", \"CALIB-PARAM\", \"MIN\", \"MAX\"))\n",
    "for i in range(results.size()): \n",
    "    p_cal = results.get(i) # calibrated parameter\n",
    "    p_min = calib.p_min.get(i) # min parameter set in the calibration.yaml file\n",
    "    p_max = calib.p_max.get(i) # max parameter set in the calibration.yaml file\n",
    "    print(\"{0:30s} {1:10f} {2:10f} {3:10f}\".format(results.get_name(i),p_cal, p_min, p_max,))"
   ]
  },
  {
   "cell_type": "code",
   "execution_count": null,
   "metadata": {
    "collapsed": true
   },
   "outputs": [],
   "source": []
  }
 ],
 "metadata": {
  "kernelspec": {
   "display_name": "Python [default]",
   "language": "python",
   "name": "python3"
  },
  "language_info": {
   "codemirror_mode": {
    "name": "ipython",
    "version": 3
   },
   "file_extension": ".py",
   "mimetype": "text/x-python",
   "name": "python",
   "nbconvert_exporter": "python",
   "pygments_lexer": "ipython3",
   "version": "3.4.5"
  }
 },
 "nbformat": 4,
 "nbformat_minor": 0
}
